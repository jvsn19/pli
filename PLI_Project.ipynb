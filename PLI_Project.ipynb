{
 "cells": [
  {
   "cell_type": "code",
   "execution_count": 54,
   "metadata": {},
   "outputs": [],
   "source": [
    "import cv2\n",
    "import numpy as np\n",
    "import matplotlib.pyplot as plt\n",
    "import __future__\n",
    "from random import random\n",
    "from scipy import signal\n",
    "from math import log10\n",
    "import os\n",
    "%matplotlib inline"
   ]
  },
  {
   "cell_type": "markdown",
   "metadata": {},
   "source": [
    "<h2>Função de Correção</h2>\n",
    "<p>A impressão de imagens com opencv utilizando valores flutuantes deve ser feita entre o range [0.0, 1.0]</p>"
   ]
  },
  {
   "cell_type": "code",
   "execution_count": 2,
   "metadata": {},
   "outputs": [],
   "source": [
    "fix = lambda img: cv2.normalize(img, None, 0.0, 1.0, cv2.NORM_MINMAX)"
   ]
  },
  {
   "cell_type": "markdown",
   "metadata": {},
   "source": [
    "<h2>Funções de Ruídos</h2>\n",
    "<p>As funções utilizadas para adicionar ruídos são, respectivamente:</p>\n",
    "<ul>\n",
    "    <li>Sal e Pimenta</li>\n",
    "    <li>Alongamento de Contraste</li>\n",
    "    <li>Adição de Ruído Gaussiano</li>\n",
    "    <li>Compressão JPEG</li>\n",
    "    <li>Ruído Speckle</li>\n",
    "    <li>Embaçamento</li>\n",
    "</ul>"
   ]
  },
  {
   "cell_type": "code",
   "execution_count": 14,
   "metadata": {},
   "outputs": [],
   "source": [
    "def saltPepper(img, prob = 0.05):\n",
    "    pepper = prob\n",
    "    salt = 1-prob\n",
    "    output = np.zeros(img.shape, np.float)\n",
    "    for i in range(img.shape[0]):\n",
    "        for j in range(img.shape[1]):\n",
    "            rand = random()\n",
    "            if rand < pepper:\n",
    "                intensity = [0.,0.,0.]\n",
    "            elif rand > salt:\n",
    "                intensity = [255.,255.,255.]\n",
    "            else:\n",
    "                intensity = [img[i][j][0], img[i][j][1], img[i][j][2]]\n",
    "            output[i][j] = intensity\n",
    "    return output"
   ]
  },
  {
   "cell_type": "code",
   "execution_count": 15,
   "metadata": {},
   "outputs": [],
   "source": [
    "contrastStretching = lambda img: (img-img.min())/(img.max()-img.min())*255."
   ]
  },
  {
   "cell_type": "code",
   "execution_count": 16,
   "metadata": {},
   "outputs": [],
   "source": [
    "def additiveGaussianNoise(img, mean = 0, var = 0.1):\n",
    "    sigma = var**0.5\n",
    "    gauss = np.random.normal(mean,sigma,img.shape)\n",
    "    gauss = gauss.reshape(img.shape)\n",
    "    return img + gauss"
   ]
  },
  {
   "cell_type": "code",
   "execution_count": 100,
   "metadata": {},
   "outputs": [],
   "source": [
    "def jpegCompression(img):\n",
    "    encode_param = [cv2.IMWRITE_JPEG_QUALITY, 90]\n",
    "    _, encimg = cv2.imencode('.jpg', img, encode_param)\n",
    "    return cv2.imdecode(encimg, 3).astype(np.float)"
   ]
  },
  {
   "cell_type": "code",
   "execution_count": 18,
   "metadata": {},
   "outputs": [],
   "source": [
    "blurring = lambda img, width, height : cv2.blur(img, (width, height))"
   ]
  },
  {
   "cell_type": "code",
   "execution_count": 19,
   "metadata": {},
   "outputs": [],
   "source": [
    "def speckleNoise(img, mean = 0, var = 0.1):\n",
    "    sigma = var**0.5\n",
    "    gauss = np.random.normal(mean,sigma,img.shape)\n",
    "    gauss = gauss.reshape(img.shape)\n",
    "    return img + img*gauss"
   ]
  },
  {
   "cell_type": "markdown",
   "metadata": {},
   "source": [
    "<h2>Funções de Qualidade</h2>\n",
    "<p>Implementação das funções de qualidade que serão utilizadas:</p>\n",
    "<ul>\n",
    "    <li>Universal Quality Index (a função proposta no artigo)</li>\n",
    "    <li>MSE: Erro médio quadrático (Root será opcional)</li>\n",
    "    <li>PSNR: Relação sinal-ruído de pico</li>\n",
    "</ul>"
   ]
  },
  {
   "cell_type": "code",
   "execution_count": 22,
   "metadata": {},
   "outputs": [],
   "source": [
    "img = cv2.imread('pictures/lena/lena.png').astype(np.float)"
   ]
  },
  {
   "cell_type": "markdown",
   "metadata": {},
   "source": [
    "<h3>Universal Quality Index</h3>\n",
    "<img src=\"uqi3.png\">\n",
    "<p>A implementação desse índice pode ser vista em 3 partes:</p>\n",
    "<ul>\n",
    "    <li>Correlação entre as Imagens</li>\n",
    "    <li>Semelhança da Luminescência</li>\n",
    "    <li>Semelhança de Contraste das Imagens</li>\n",
    "</ul>\n",
    "<p>Equação Final:</p>\n",
    "<img src=\"uqi.png\">"
   ]
  },
  {
   "cell_type": "markdown",
   "metadata": {},
   "source": [
    "<p>A função numCorrelation serve para calcular o numerador da função de correlação vista anteriormente de forma manual para uma imagem RGB, onde é retirado a média das cores no pixel (i,j) e é calculado o somatório do produto desses valores subtraído da média para cada uma das imagens</p>"
   ]
  },
  {
   "cell_type": "code",
   "execution_count": 24,
   "metadata": {},
   "outputs": [],
   "source": [
    "def numCorrelation(a, b):\n",
    "    a_mean = a.mean()\n",
    "    b_mean = b.mean()\n",
    "    num = 0\n",
    "    for i in range(a.shape[0]):\n",
    "        for j in range(a.shape[1]):\n",
    "            local_mean_a = a[i][j].mean()\n",
    "            local_mean_b = b[i][j].mean()\n",
    "            local_calc = (local_mean_a-a_mean)*(local_mean_b-b_mean)\n",
    "            num += local_calc\n",
    "    return num/(a.shape[0]*a.shape[1]-1) "
   ]
  },
  {
   "cell_type": "code",
   "execution_count": 44,
   "metadata": {},
   "outputs": [],
   "source": [
    "def quality(img, noise_img):\n",
    "    x_mean = img.mean()\n",
    "    y_mean = noise_img.mean()\n",
    "    x_std = img.std()\n",
    "    y_std = noise_img.std()\n",
    "    xy_std = numCorrelation(img,noise_img)\n",
    "    top = 4.*xy_std*x_mean*y_mean\n",
    "    bot = (x_std**2.+y_std**2.)*(x_mean**2.+y_mean**2.)\n",
    "    return top/bot"
   ]
  },
  {
   "cell_type": "code",
   "execution_count": 45,
   "metadata": {},
   "outputs": [],
   "source": [
    "mse = lambda img, noise_img, root: ((img - noise_img)**2).mean() if not root else ((img - noise_img)**2).mean()**0.5"
   ]
  },
  {
   "cell_type": "code",
   "execution_count": 51,
   "metadata": {},
   "outputs": [],
   "source": [
    "psnr = lambda img, noise_img: log10(255.0/mse(img, noise_img, True))"
   ]
  },
  {
   "cell_type": "markdown",
   "metadata": {},
   "source": [
    "<h2>Inserindo Ruídos e Extraindo Métricas</h2>\n",
    "<p>Inicialmente serão inserido ruídos nas imagens iniciais e os resultados das imagens antes e após filtros serão impressos, junto com seus índices de qualidade</p>"
   ]
  },
  {
   "cell_type": "code",
   "execution_count": 105,
   "metadata": {},
   "outputs": [
    {
     "ename": "AttributeError",
     "evalue": "'Figure' object has no attribute 'set_title'",
     "output_type": "error",
     "traceback": [
      "\u001b[0;31m---------------------------------------------------------------------------\u001b[0m",
      "\u001b[0;31mAttributeError\u001b[0m                            Traceback (most recent call last)",
      "\u001b[0;32m<ipython-input-105-8d46a5731cba>\u001b[0m in \u001b[0;36m<module>\u001b[0;34m()\u001b[0m\n\u001b[1;32m     12\u001b[0m     \u001b[0;31m# Show Images\u001b[0m\u001b[0;34m\u001b[0m\u001b[0;34m\u001b[0m\u001b[0m\n\u001b[1;32m     13\u001b[0m     \u001b[0mfig\u001b[0m \u001b[0;34m=\u001b[0m \u001b[0mplt\u001b[0m\u001b[0;34m.\u001b[0m\u001b[0mfigure\u001b[0m\u001b[0;34m(\u001b[0m\u001b[0mfigsize\u001b[0m\u001b[0;34m=\u001b[0m\u001b[0;34m(\u001b[0m\u001b[0;36m13\u001b[0m\u001b[0;34m,\u001b[0m\u001b[0;36m10\u001b[0m\u001b[0;34m)\u001b[0m\u001b[0;34m)\u001b[0m\u001b[0;34m\u001b[0m\u001b[0m\n\u001b[0;32m---> 14\u001b[0;31m     \u001b[0mfig\u001b[0m\u001b[0;34m.\u001b[0m\u001b[0mset_title\u001b[0m\u001b[0;34m(\u001b[0m\u001b[0;34m\"oi\"\u001b[0m\u001b[0;34m)\u001b[0m\u001b[0;34m\u001b[0m\u001b[0m\n\u001b[0m\u001b[1;32m     15\u001b[0m     \u001b[0max\u001b[0m \u001b[0;34m=\u001b[0m \u001b[0mplt\u001b[0m\u001b[0;34m.\u001b[0m\u001b[0msubplot\u001b[0m\u001b[0;34m(\u001b[0m\u001b[0;36m231\u001b[0m\u001b[0;34m)\u001b[0m\u001b[0;34m\u001b[0m\u001b[0m\n\u001b[1;32m     16\u001b[0m     \u001b[0max\u001b[0m\u001b[0;34m.\u001b[0m\u001b[0mset_title\u001b[0m\u001b[0;34m(\u001b[0m\u001b[0;34m\"Salt And Pepper\"\u001b[0m\u001b[0;34m)\u001b[0m\u001b[0;34m\u001b[0m\u001b[0m\n",
      "\u001b[0;31mAttributeError\u001b[0m: 'Figure' object has no attribute 'set_title'"
     ]
    },
    {
     "data": {
      "text/plain": [
       "<Figure size 936x720 with 0 Axes>"
      ]
     },
     "metadata": {},
     "output_type": "display_data"
    }
   ],
   "source": [
    "BASE_PATH = \"./pictures/base/\"\n",
    "for base_img in os.listdir(BASE_PATH):\n",
    "    IMG_PATH = BASE_PATH+base_img\n",
    "    img = cv2.imread(IMG_PATH).astype(np.float)\n",
    "    # Get images with noise\n",
    "    sp_img = saltPepper(img, prob=0.02)\n",
    "    cs_img = contrastStretching(img)\n",
    "    gauss_img = additiveGaussianNoise(img, var=100)\n",
    "    jpeg_img = jpegCompression(img)\n",
    "    blur_img = blurring(img, 10, 10)\n",
    "    speckle_img = speckleNoise(img, var=0.01)\n",
    "    # Show Images\n",
    "    fig = plt.figure(figsize=(13,10))\n",
    "\n",
    "    ax = plt.subplot(231)\n",
    "    ax.set_title(\"Salt And Pepper\")\n",
    "    ax.axis(\"off\")\n",
    "    ax.imshow(fix(sp_img))\n",
    "\n",
    "    ax = plt.subplot(232)\n",
    "    ax.set_title(\"Contrast Stretching\")\n",
    "    ax.axis(\"off\")\n",
    "    ax.imshow(fix(cs_img))\n",
    "    \n",
    "    ax = plt.subplot(233)\n",
    "    ax.set_title(\"Gaussian Noise\")\n",
    "    ax.axis(\"off\")\n",
    "    ax.imshow(fix(gauss_img))\n",
    "    \n",
    "    ax = plt.subplot(234)\n",
    "    ax.set_title(\"JPEG Compression\")\n",
    "    ax.axis(\"off\")\n",
    "    ax.imshow(fix(jpeg_img))\n",
    "    \n",
    "    ax = plt.subplot(235)\n",
    "    ax.set_title(\"Mean Blur\")\n",
    "    ax.axis(\"off\")\n",
    "    ax.imshow(fix(blur_img))\n",
    "    \n",
    "    ax = plt.subplot(236)\n",
    "    ax.set_title(\"Speckle Noise\")\n",
    "    ax.axis(\"off\")\n",
    "    ax.imshow(fix(speckle_img))\n",
    "    plt.show()"
   ]
  },
  {
   "cell_type": "code",
   "execution_count": null,
   "metadata": {},
   "outputs": [],
   "source": []
  }
 ],
 "metadata": {
  "kernelspec": {
   "display_name": "Python 2",
   "language": "python",
   "name": "python2"
  },
  "language_info": {
   "codemirror_mode": {
    "name": "ipython",
    "version": 2
   },
   "file_extension": ".py",
   "mimetype": "text/x-python",
   "name": "python",
   "nbconvert_exporter": "python",
   "pygments_lexer": "ipython2",
   "version": "2.7.15rc1"
  }
 },
 "nbformat": 4,
 "nbformat_minor": 2
}
