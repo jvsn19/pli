{
 "cells": [
  {
   "cell_type": "code",
   "execution_count": 2,
   "metadata": {},
   "outputs": [],
   "source": [
    "import cv2\n",
    "import numpy as np\n",
    "import matplotlib.pyplot as plt\n",
    "import __future__\n",
    "from random import random\n",
    "%matplotlib inline"
   ]
  },
  {
   "cell_type": "code",
   "execution_count": 3,
   "metadata": {},
   "outputs": [],
   "source": [
    "img = cv2.imread('pictures/lena/lena.png').astype(np.float)"
   ]
  },
  {
   "cell_type": "code",
   "execution_count": 4,
   "metadata": {},
   "outputs": [],
   "source": [
    "fix = lambda img: cv2.normalize(img, None, 0.0, 1.0, cv2.NORM_MINMAX)"
   ]
  },
  {
   "cell_type": "code",
   "execution_count": 5,
   "metadata": {},
   "outputs": [],
   "source": [
    "def saltPepper(img, prob = 0.05):\n",
    "    pepper = prob\n",
    "    salt = 1-prob\n",
    "    output = np.zeros(img.shape, np.float)\n",
    "    for i in range(img.shape[0]):\n",
    "        for j in range(img.shape[1]):\n",
    "            rand = random()\n",
    "            if rand < pepper:\n",
    "                intensity = [0,0,0]\n",
    "            elif rand > salt:\n",
    "                intensity = [1,1,1]\n",
    "            else:\n",
    "                intensity = [img[i][j][0], img[i][j][1], img[i][j][2]]\n",
    "            output[i][j] = intensity\n",
    "    return output"
   ]
  },
  {
   "cell_type": "code",
   "execution_count": 6,
   "metadata": {},
   "outputs": [],
   "source": [
    "contrastStretching = lambda img: (img-img.min())/(img.max()-img.min())*255."
   ]
  },
  {
   "cell_type": "code",
   "execution_count": 7,
   "metadata": {},
   "outputs": [],
   "source": [
    "def additiveGaussianNoise(img, mean = 0, var = 0.1):\n",
    "    sigma = var**0.5\n",
    "    gauss = np.random.normal(mean,sigma,img.shape)\n",
    "    gauss = gauss.reshape(img.shape)\n",
    "    return img + gauss"
   ]
  },
  {
   "cell_type": "code",
   "execution_count": 22,
   "metadata": {},
   "outputs": [],
   "source": [
    "def jpegCompression(img):\n",
    "    encode_param = [cv2.IMWRITE_JPEG_QUALITY, 90]\n",
    "    _, encimg = cv2.imencode('.jpg', img, encode_param)\n",
    "    return cv2.imdecode(encimg, 0).astype(np.float)"
   ]
  },
  {
   "cell_type": "code",
   "execution_count": 9,
   "metadata": {},
   "outputs": [],
   "source": [
    "blurring = lambda img, width, height : cv2.blur(img, (width, height))"
   ]
  },
  {
   "cell_type": "code",
   "execution_count": 10,
   "metadata": {},
   "outputs": [],
   "source": [
    "def speckleNoise(img, mean = 0, var = 0.1):\n",
    "    sigma = var**0.5\n",
    "    gauss = np.random.normal(mean,sigma,img.shape)\n",
    "    gauss = gauss.reshape(img.shape)\n",
    "    return img + img*gauss"
   ]
  },
  {
   "cell_type": "code",
   "execution_count": 25,
   "metadata": {},
   "outputs": [],
   "source": [
    "cv2.imshow(\"Original\", fix(img))\n",
    "cv2.imshow(\"Contrast Stretching\", fix(contrastStretching(img)))\n",
    "cv2.imshow(\"Blurring\", fix(blurring(img, 15, 15)))\n",
    "cv2.imshow(\"Additive Gaussian Noise\", fix(additiveGaussianNoise(img, var=100)))\n",
    "cv2.imshow(\"Salt and Pepper\", fix(saltPepper(img)))\n",
    "cv2.imshow(\"Salt and Pepper\", fix(jpegCompression(img)))\n",
    "cv2.waitKey(0)\n",
    "cv2.destroyAllWindows()"
   ]
  },
  {
   "cell_type": "code",
   "execution_count": null,
   "metadata": {},
   "outputs": [],
   "source": []
  }
 ],
 "metadata": {
  "kernelspec": {
   "display_name": "Python 2",
   "language": "python",
   "name": "python2"
  },
  "language_info": {
   "codemirror_mode": {
    "name": "ipython",
    "version": 2
   },
   "file_extension": ".py",
   "mimetype": "text/x-python",
   "name": "python",
   "nbconvert_exporter": "python",
   "pygments_lexer": "ipython2",
   "version": "2.7.15rc1"
  }
 },
 "nbformat": 4,
 "nbformat_minor": 2
}
